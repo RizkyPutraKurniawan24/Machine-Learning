{
  "nbformat": 4,
  "nbformat_minor": 0,
  "metadata": {
    "colab": {
      "provenance": [],
      "collapsed_sections": [
        "6tYf4MJBqe9V"
      ],
      "authorship_tag": "ABX9TyO7+xaLowFYKVTuANVefOB4",
      "include_colab_link": true
    },
    "kernelspec": {
      "name": "python3",
      "display_name": "Python 3"
    },
    "language_info": {
      "name": "python"
    }
  },
  "cells": [
    {
      "cell_type": "markdown",
      "metadata": {
        "id": "view-in-github",
        "colab_type": "text"
      },
      "source": [
        "<a href=\"https://colab.research.google.com/github/RizkyPutraKurniawan24/Machine-Learning/blob/master/Supervised%20Learning/Regression/Linear%2C%20Multi%20Linear%2C%20Polynomial%20Regression.ipynb\" target=\"_parent\"><img src=\"https://colab.research.google.com/assets/colab-badge.svg\" alt=\"Open In Colab\"/></a>"
      ]
    },
    {
      "cell_type": "markdown",
      "source": [
        "# **REGRESSION**"
      ],
      "metadata": {
        "id": "BdEzIMP5jFdI"
      }
    },
    {
      "cell_type": "markdown",
      "source": [
        "Istilah regression digunakan ketika Anda mencoba mencari hubungan antar variabel.\n",
        "\n",
        "Dalam Machine Learning, dan dalam Statistical Modelling , hubungan tersebut digunakan untuk memprediksi hasil peristiwa di masa depan."
      ],
      "metadata": {
        "id": "brLSEsU5jIA9"
      }
    },
    {
      "cell_type": "markdown",
      "source": [
        "## **Linear Regression**"
      ],
      "metadata": {
        "id": "vrR0EWeejdN0"
      }
    },
    {
      "cell_type": "markdown",
      "source": [
        "- Linear Regression menggunakan hubungan antara data points untuk menarik garis lurus yang melalui semua data points nya.\n",
        "\n",
        "- Garis ini dapat digunakan untuk memprediksi nilai masa depan.\n",
        "\n",
        "- Dalam Machine Learning , memprediksi masa depan sangatlah penting."
      ],
      "metadata": {
        "id": "2sVzRgrkjgF7"
      }
    },
    {
      "cell_type": "markdown",
      "source": [
        "### **How Does It Work?**"
      ],
      "metadata": {
        "id": "3Yvm8CKKj9l2"
      }
    },
    {
      "cell_type": "markdown",
      "source": [
        "Python memiliki metode untuk menemukan hubungan antara titik data dan menggambar garis linear regression. Kami akan menunjukkan kepada Anda cara menggunakan metode ini alih-alih menggunakan rumus matematika.\n",
        "\n",
        "Pada contoh di bawah, sumbu x melambangkan usia, dan sumbu y melambangkan kecepatan. Kami telah mencatat umur dan kecepatan 13 mobil saat melewati gardu tol. Mari kita lihat apakah data yang kami kumpulkan dapat digunakan dalam regresi linier:\n"
      ],
      "metadata": {
        "id": "O6IFhTKnkB_k"
      }
    },
    {
      "cell_type": "code",
      "source": [
        "import matplotlib.pyplot as plt\n",
        "\n",
        "x = [5,7,8,7,2,17,2,9,4,11,12,9,6]\n",
        "y = [99,86,87,88,111,86,103,87,94,78,77,85,86]\n",
        "print(f'Age of a car :' , [x])\n",
        "print(f'Speed of a car :' , [y])\n",
        "\n",
        "plt.scatter(x, y)\n",
        "plt.xlabel('Ages of a car')\n",
        "plt.ylabel('Speed of a car')\n",
        "plt.show()"
      ],
      "metadata": {
        "colab": {
          "base_uri": "https://localhost:8080/",
          "height": 484
        },
        "id": "Y9z-a52FihRn",
        "outputId": "67d2a372-cc37-46cc-df65-f026d8c19d4c"
      },
      "execution_count": null,
      "outputs": [
        {
          "output_type": "stream",
          "name": "stdout",
          "text": [
            "Age of a car : [[5, 7, 8, 7, 2, 17, 2, 9, 4, 11, 12, 9, 6]]\n",
            "Speed of a car : [[99, 86, 87, 88, 111, 86, 103, 87, 94, 78, 77, 85, 86]]\n"
          ]
        },
        {
          "output_type": "display_data",
          "data": {
            "text/plain": [
              "<Figure size 640x480 with 1 Axes>"
            ],
            "image/png": "[encoded data removed]"
          },
          "metadata": {}
        }
      ]
    },
    {
      "cell_type": "markdown",
      "source": [
        "### **Import SciPy and Fit the Linear Regression Line**"
      ],
      "metadata": {
        "id": "6foRZwXwkx0w"
      }
    },
    {
      "cell_type": "code",
      "source": [
        "import matplotlib.pyplot as plt\n",
        "from scipy import stats\n",
        "\n",
        "x = [5,7,8,7,2,17,2,9,4,11,12,9,6] #array values x axis\n",
        "y = [99,86,87,88,111,86,103,87,94,78,77,85,86] #array values y axis\n",
        "\n",
        "#Jalankan metode yang mengembalikan beberapa nilai kunci penting dari Regresi Linier:\n",
        "slope, intercept, r, p, std_err = stats.linregress(x, y)\n",
        "\n",
        "#Buat fungsi yang menggunakan slope dan intercept values untuk mengembalikan nilai baru.\n",
        "##Nilai baru ini menunjukkan dimana pada sumbu y nilai x yang bersangkutan akan ditempatkan:\n",
        "def myfunc(x):\n",
        "  return slope * x + intercept\n",
        "\n",
        "#Jalankan setiap nilai array x melalui fungsi.\n",
        "##Ini akan menghasilkan array baru dengan nilai baru untuk sumbu y:\n",
        "mymodel = list(map(myfunc, x))\n",
        "\n",
        "#Draw the original scatter plot:\n",
        "plt.scatter(x, y)\n",
        "\n",
        "#Draw the line of linear regression:\n",
        "plt.plot(x, mymodel)\n",
        "\n",
        "#Display the diagram\n",
        "plt.show()"
      ],
      "metadata": {
        "colab": {
          "base_uri": "https://localhost:8080/",
          "height": 430
        },
        "id": "sc5pNP4rkeGo",
        "outputId": "4c02e07b-2593-4ad9-f0e4-e6485f019aff"
      },
      "execution_count": null,
      "outputs": [
        {
          "output_type": "display_data",
          "data": {
            "text/plain": [
              "<Figure size 640x480 with 1 Axes>"
            ],
            "image/png": "[encoded data removed]"
          },
          "metadata": {}
        }
      ]
    },
    {
      "cell_type": "markdown",
      "source": [
        "### **R-Squared**"
      ],
      "metadata": {
        "id": "P0-LDbdDm5SY"
      }
    },
    {
      "cell_type": "markdown",
      "source": [
        "Penting untuk mengetahui bagaimana hubungan antara nilai sumbu x dan nilai sumbu y, jika tidak ada hubungan maka linear regression tidak dapat digunakan untuk memprediksi apapun.\n",
        "\n",
        "Hubungan itu - coefficient of correlation - disebut $r$.\n",
        "\n",
        "Nilai $r$ berkisar antara -1 sampai 1, dimana 0 berarti tidak ada hubungan, dan 1 (dan -1) berarti 100% berhubungan.\n",
        "\n",
        "Modul Python dan Scipy akan menghitung nilai ini untuk Anda, yang harus Anda lakukan hanyalah memberinya nilai x dan y.\n",
        "\n",
        "Contoh : Seberapa cocok data saya dengan linear regression?"
      ],
      "metadata": {
        "id": "FJqy5HHRm9j3"
      }
    },
    {
      "cell_type": "code",
      "source": [
        "from scipy import stats\n",
        "\n",
        "x = [5,7,8,7,2,17,2,9,4,11,12,9,6]\n",
        "y = [99,86,87,88,111,86,103,87,94,78,77,85,86]\n",
        "\n",
        "slope, intercept, r, p, std_err = stats.linregress(x, y)\n",
        "\n",
        "print(r)"
      ],
      "metadata": {
        "colab": {
          "base_uri": "https://localhost:8080/"
        },
        "id": "rrS9WLAAlABs",
        "outputId": "1b6f8283-92f1-48dd-da3a-e8fa97bf0eca"
      },
      "execution_count": null,
      "outputs": [
        {
          "output_type": "stream",
          "name": "stdout",
          "text": [
            "-0.758591524376155\n"
          ]
        }
      ]
    },
    {
      "cell_type": "markdown",
      "source": [
        "##### ***Note*** : Hasil -0,76 menunjukkan adanya hubungan, tidak sempurna, namun menunjukkan bahwa kita dapat menggunakan linear regresion dalam predict future values."
      ],
      "metadata": {
        "id": "8_WpLhzZnzBF"
      }
    },
    {
      "cell_type": "markdown",
      "source": [
        "### **Predict Future Values**"
      ],
      "metadata": {
        "id": "SpnoMcRRn6hD"
      }
    },
    {
      "cell_type": "markdown",
      "source": [
        "Sekarang kita dapat menggunakan informasi yang telah kita kumpulkan untuk predict future values.\n",
        "\n",
        "- **Contoh**: Mari kita coba meramalkan kecepatan sebuah mobil berumur 10 tahun.\n",
        "\n",
        "Untuk melakukannya, kita memerlukan fungsi $myfunc()$ yang sama dari contoh di atas:"
      ],
      "metadata": {
        "id": "-z5P2ieCVJiD"
      }
    },
    {
      "cell_type": "code",
      "source": [
        "import matplotlib.pyplot as plt\n",
        "from scipy import stats\n",
        "\n",
        "x = [5,7,8,7,2,17,2,9,4,11,12,9,6] #array values x axis\n",
        "y = [99,86,87,88,111,86,103,87,94,78,77,85,86] #array values y axis\n",
        "\n",
        "#Jalankan metode yang mengembalikan beberapa nilai kunci penting dari Regresi Linier:\n",
        "slope, intercept, r, p, std_err = stats.linregress(x, y)\n",
        "\n",
        "#Buat fungsi yang menggunakan slope dan intercept values untuk mengembalikan nilai baru.\n",
        "##Nilai baru ini menunjukkan dimana pada sumbu y nilai x yang bersangkutan akan ditempatkan:\n",
        "def myfunc(x):\n",
        "  return slope * x + intercept\n",
        "\n",
        "speed = myfunc(10)\n",
        "print(f'Kecepatan sebuah mobil yang berumur 10 tahun adalah : {speed}')\n",
        "\n",
        "#Jalankan setiap nilai array x melalui fungsi.\n",
        "##Ini akan menghasilkan array baru dengan nilai baru untuk sumbu y:\n",
        "mymodel = list(map(myfunc, x))\n",
        "\n",
        "#Draw the original scatter plot:\n",
        "plt.scatter(x, y)\n",
        "\n",
        "#Draw the line of linear regression:\n",
        "plt.plot(x, mymodel)\n",
        "\n",
        "#Display the diagram\n",
        "plt.show()"
      ],
      "metadata": {
        "colab": {
          "base_uri": "https://localhost:8080/",
          "height": 447
        },
        "id": "-6RtUFVnoPmL",
        "outputId": "8f4cb45d-54cb-481d-8807-720540bc47ce"
      },
      "execution_count": null,
      "outputs": [
        {
          "output_type": "stream",
          "name": "stdout",
          "text": [
            "Kecepatan sebuah mobil yang berumur 10 tahun adalah : 85.59308314937454\n"
          ]
        },
        {
          "output_type": "display_data",
          "data": {
            "text/plain": [
              "<Figure size 640x480 with 1 Axes>"
            ],
            "image/png": "[encoded data removed]"
          },
          "metadata": {}
        }
      ]
    },
    {
      "cell_type": "markdown",
      "source": [
        "#### **Not fit ?**"
      ],
      "metadata": {
        "id": "OE5XXzZ1pSNq"
      }
    },
    {
      "cell_type": "markdown",
      "source": [
        "Mari kita buat contoh di mana linear regression bukan menjadi metode terbaik untuk memprediksi nilai masa depan.\n",
        "\n",
        "**Contoh:** Nilai sumbu x dan y berikut ini akan menghasilkan kesesuaian yang sangat buruk untuk linear regression :"
      ],
      "metadata": {
        "id": "I4w1H3HoWErv"
      }
    },
    {
      "cell_type": "code",
      "source": [
        "import matplotlib.pyplot as plt\n",
        "from scipy import stats\n",
        "\n",
        "x = [89,43,36,36,95,10,66,34,38,20,26,29,48,64,6,5,36,66,72,40]\n",
        "y = [21,46,3,35,67,95,53,72,58,10,26,34,90,33,38,20,56,2,47,15]\n",
        "\n",
        "slope, intercept, r, p, std_err = stats.linregress(x, y)\n",
        "\n",
        "def myfunc(x):\n",
        "  return slope * x + intercept\n",
        "\n",
        "mymodel = list(map(myfunc, x))\n",
        "\n",
        "plt.scatter(x, y)\n",
        "plt.plot(x, mymodel)\n",
        "plt.show()"
      ],
      "metadata": {
        "colab": {
          "base_uri": "https://localhost:8080/",
          "height": 430
        },
        "id": "khGzpe47orsK",
        "outputId": "b3152964-545d-43d9-8732-eccdf150463b"
      },
      "execution_count": null,
      "outputs": [
        {
          "output_type": "display_data",
          "data": {
            "text/plain": [
              "<Figure size 640x480 with 1 Axes>"
            ],
            "image/png": "[encoded data removed]"
          },
          "metadata": {}
        }
      ]
    },
    {
      "cell_type": "markdown",
      "source": [
        "##### **R-Squared**"
      ],
      "metadata": {
        "id": "QlKZCHdJqAop"
      }
    },
    {
      "cell_type": "code",
      "source": [
        "import numpy\n",
        "from scipy import stats\n",
        "\n",
        "x = [89,43,36,36,95,10,66,34,38,20,26,29,48,64,6,5,36,66,72,40]\n",
        "y = [21,46,3,35,67,95,53,72,58,10,26,34,90,33,38,20,56,2,47,15]\n",
        "\n",
        "slope, intercept, r, p, std_err = stats.linregress(x, y)\n",
        "\n",
        "print(r)"
      ],
      "metadata": {
        "colab": {
          "base_uri": "https://localhost:8080/"
        },
        "id": "Y9TZq9Z_p5dy",
        "outputId": "7a76ac6a-6065-4ab7-d052-27f4a74f27ac"
      },
      "execution_count": null,
      "outputs": [
        {
          "output_type": "stream",
          "name": "stdout",
          "text": [
            "0.01331814154297491\n"
          ]
        }
      ]
    },
    {
      "cell_type": "markdown",
      "source": [
        "##### ***Note*** : 0,013 menunjukkan hubungan yang sangat buruk, dan menunjukkan bahwa dataset ini tidak cocok untuk linear regression."
      ],
      "metadata": {
        "id": "8zYa_E9tqMjO"
      }
    },
    {
      "cell_type": "markdown",
      "source": [
        "## **Polynomial Regression**"
      ],
      "metadata": {
        "id": "6tYf4MJBqe9V"
      }
    },
    {
      "cell_type": "markdown",
      "source": [
        "Jika data points Anda jelas-jelas tidak cocok dengan linear regression (garis lurus yang melewati semua data points), ini mungkin ideal untuk polynomial regression.\n",
        "\n",
        "Polynomial Regression, seperti linear regression, menggunakan hubungan antara variabel x dan y untuk menemukan cara terbaik menarik garis melalui data points."
      ],
      "metadata": {
        "id": "B8Jkfg-Mqi0w"
      }
    },
    {
      "cell_type": "markdown",
      "source": [
        "### **How Does It Work ?**\n",
        "\n",
        "Python memiliki metode untuk menemukan hubungan antara data points dan menggambar garis polynomial regression. Kami akan menunjukkan kepada Anda cara menggunakan metode ini alih-alih menggunakan rumus matematika.\n",
        "\n",
        "Pada contoh di bawah ini, kita telah mendaftarkan 18 mobil yang sedang melewati gardu tol tertentu.\n",
        "\n",
        "Kami telah mencatat kecepatan mobil, dan waktu (jam) terjadinya lintasan tersebut.\n",
        "\n",
        "Sumbu x mewakili jam dalam sehari dan sumbu y mewakili kecepatan:"
      ],
      "metadata": {
        "id": "zXO9Q7b0rAY5"
      }
    },
    {
      "cell_type": "code",
      "source": [
        "import matplotlib.pyplot as plt\n",
        "\n",
        "x = [1,2,3,5,6,7,8,9,10,12,13,14,15,16,18,19,21,22,23,24]\n",
        "y = [100,90,80,60,60,55,60,65,70,70,75,76,78,79,90,99,99,100,90,80]\n",
        "print(f'The time of day (hour) :' , [x])\n",
        "print(f'Speed of a car :' , [y])\n",
        "\n",
        "\n",
        "plt.scatter(x, y)\n",
        "plt.xlabel('The time of day (hour)')\n",
        "plt.ylabel('Speed of a car')\n",
        "plt.show()"
      ],
      "metadata": {
        "colab": {
          "base_uri": "https://localhost:8080/"
        },
        "id": "fiJeFYW7qIfS",
        "outputId": "2c31c085-1c2d-45e3-a926-94d25cad7449"
      },
      "execution_count": null,
      "outputs": [
        {
          "output_type": "stream",
          "name": "stdout",
          "text": [
            "The time of day (hour) : [[1, 2, 3, 5, 6, 7, 8, 9, 10, 12, 13, 14, 15, 16, 18, 19, 21, 22, 23, 24]]\n",
            "Speed of a car : [[100, 90, 80, 60, 60, 55, 60, 65, 70, 70, 75, 76, 78, 79, 90, 99, 99, 100, 90, 80]]\n"
          ]
        },
        {
          "output_type": "display_data",
          "data": {
            "text/plain": [
              "<Figure size 640x480 with 1 Axes>"
            ],
            "image/png": "[encoded data removed]"
          },
          "metadata": {}
        }
      ]
    },
    {
      "cell_type": "markdown",
      "source": [
        "### **Import NumPy and MatPlotlib then Fit the Polynomial Regression**"
      ],
      "metadata": {
        "id": "6SFCzlNwsbYi"
      }
    },
    {
      "cell_type": "code",
      "source": [
        "import numpy\n",
        "import matplotlib.pyplot as plt\n",
        "\n",
        "x = [1,2,3,5,6,7,8,9,10,12,13,14,15,16,18,19,21,22,23,24] #array values x axis\n",
        "y = [100,90,80,60,60,55,60,65,70,70,75,76,78,79,90,99,99,100,90,80] #array values y axis\n",
        "\n",
        "#NumPy memiliki metode yang memungkinkan kita membuat model polinomial:\n",
        "mymodel = numpy.poly1d(numpy.polyfit(x, y, 3))\n",
        "\n",
        "#Kemudian tentukan bagaimana garis tersebut akan ditampilkan, kita mulai di posisi 1, dan berakhir di posisi 24:\n",
        "myline = numpy.linspace(1, 24, 80)\n",
        "\n",
        "#Draw the original scatter plot:\n",
        "plt.scatter(x, y)\n",
        "\n",
        "#Draw the line of polynomial regression:\n",
        "plt.plot(myline, mymodel(myline))\n",
        "\n",
        "#Menandai sumbu x dan y\n",
        "plt.xlabel('The time of day (hour)')\n",
        "plt.ylabel('Speed of a car')\n",
        "\n",
        "#Display the diagram\n",
        "plt.show()"
      ],
      "metadata": {
        "colab": {
          "base_uri": "https://localhost:8080/"
        },
        "id": "J6qq52vXrzgZ",
        "outputId": "c643dc3f-2084-467f-e84a-70b4918f86fc"
      },
      "execution_count": null,
      "outputs": [
        {
          "output_type": "display_data",
          "data": {
            "text/plain": [
              "<Figure size 640x480 with 1 Axes>"
            ],
            "image/png": "[encoded data removed]"
          },
          "metadata": {}
        }
      ]
    },
    {
      "cell_type": "markdown",
      "source": [
        "### **R-Squared**"
      ],
      "metadata": {
        "id": "DWhRG_nZtknM"
      }
    },
    {
      "cell_type": "markdown",
      "source": [
        "Penting untuk mengetahui seberapa baik hubungan antara nilai sumbu x dan y, jika tidak ada hubungan maka polinomial regression tidak dapat digunakan untuk memprediksi apapun.\n",
        "\n",
        "Hubungan tersebut diukur dengan nilai yang disebut r-squared.\n",
        "\n",
        "Nilai r-squared berkisar antara 0 sampai 1, dimana 0 berarti tidak ada hubungan, dan 1 berarti 100% berhubungan.\n",
        "\n",
        "Python dan modul Sklearn akan menghitung nilai ini untuk Anda, yang harus Anda lakukan hanyalah memasukkannya dengan array x dan y:"
      ],
      "metadata": {
        "id": "n1AoJ3oCtoEQ"
      }
    },
    {
      "cell_type": "code",
      "source": [
        "import numpy\n",
        "from sklearn.metrics import r2_score\n",
        "\n",
        "x = [1,2,3,5,6,7,8,9,10,12,13,14,15,16,18,19,21,22,23,24]\n",
        "y = [100,90,80,60,60,55,60,65,70,70,75,76,78,79,90,99,99,100,90,80]\n",
        "\n",
        "mymodel = numpy.poly1d(numpy.polyfit(x, y, 3))\n",
        "\n",
        "print(r2_score(y, mymodel(x)))"
      ],
      "metadata": {
        "colab": {
          "base_uri": "https://localhost:8080/"
        },
        "id": "m5xLaALRsnKS",
        "outputId": "9731ff45-e015-4304-a772-9b53eb97e8d5"
      },
      "execution_count": null,
      "outputs": [
        {
          "output_type": "stream",
          "name": "stdout",
          "text": [
            "0.9264936617290094\n"
          ]
        }
      ]
    },
    {
      "cell_type": "markdown",
      "source": [
        "***Note*** : Hasil 0,92 menunjukkan bahwa terdapat hubungan yang sangat baik, dan kita dapat menggunakan polynomial regression dalam predict future values."
      ],
      "metadata": {
        "id": "Tyg54lWbuLce"
      }
    },
    {
      "cell_type": "markdown",
      "source": [
        "### **Predict Future Values**"
      ],
      "metadata": {
        "id": "TgWMkvn9uR3k"
      }
    },
    {
      "cell_type": "markdown",
      "source": [
        "Sekarang kita dapat menggunakan informasi yang telah kita kumpulkan untuk memprediksi nilai masa depan.\n",
        "\n",
        "**Contoh**: Mari kita coba memprediksi kecepatan mobil yang melewati pintu tol sekitar pukul 17.00:\n",
        "\n",
        "Untuk melakukannya, kita memerlukan array $mymodel$ yang sama dari contoh di atas"
      ],
      "metadata": {
        "id": "9VJgq3dDud6N"
      }
    },
    {
      "cell_type": "code",
      "source": [
        "import numpy\n",
        "from sklearn.metrics import r2_score\n",
        "\n",
        "x = [1,2,3,5,6,7,8,9,10,12,13,14,15,16,18,19,21,22,23,24]\n",
        "y = [100,90,80,60,60,55,60,65,70,70,75,76,78,79,90,99,99,100,90,80]\n",
        "\n",
        "mymodel = numpy.poly1d(numpy.polyfit(x, y, 3))\n",
        "\n",
        "speed = mymodel(15)\n",
        "print(f'Kecepatan sebuah mobil yang melewati pintu tol sekitar pukul 17.00 : {speed}')\n",
        "\n",
        "#NumPy memiliki metode yang memungkinkan kita membuat model polinomial:\n",
        "mymodel = numpy.poly1d(numpy.polyfit(x, y, 3))\n",
        "\n",
        "#Kemudian tentukan bagaimana garis tersebut akan ditampilkan, kita mulai di posisi 1, dan berakhir di posisi 24:\n",
        "myline = numpy.linspace(1, 24, 80)\n",
        "\n",
        "#Draw the original scatter plot:\n",
        "plt.scatter(x, y)\n",
        "\n",
        "#Draw the line of polynomial regression:\n",
        "plt.plot(myline, mymodel(myline))\n",
        "\n",
        "#Menandai sumbu x dan y\n",
        "plt.xlabel('The time of day (hour)')\n",
        "plt.ylabel('Speed of a car')\n",
        "\n",
        "#Display the diagram\n",
        "plt.show()"
      ],
      "metadata": {
        "colab": {
          "base_uri": "https://localhost:8080/"
        },
        "id": "eiashWXtt5Gl",
        "outputId": "0894acd1-5b17-423c-d4d8-c8587d6f54fc"
      },
      "execution_count": null,
      "outputs": [
        {
          "output_type": "stream",
          "name": "stdout",
          "text": [
            "Kecepatan sebuah mobil yang melewati pintu tol sekitar pukul 17.00 : 82.09026563583618\n"
          ]
        },
        {
          "output_type": "display_data",
          "data": {
            "text/plain": [
              "<Figure size 640x480 with 1 Axes>"
            ],
            "image/png": "[encoded data removed]"
          },
          "metadata": {}
        }
      ]
    },
    {
      "cell_type": "markdown",
      "source": [
        "#### **Not fit ?**\n",
        "\n",
        "Mari kita buat contoh di mana polynomial regression bukan menjadi metode terbaik untuk memprediksi nilai masa depan.\n",
        "\n",
        "**Contoh :** Nilai sumbu x dan y berikut ini akan menghasilkan kesesuaian yang sangat buruk untuk polynomial regresssion"
      ],
      "metadata": {
        "id": "nz5ns24UwU7r"
      }
    },
    {
      "cell_type": "code",
      "source": [
        "import numpy\n",
        "import matplotlib.pyplot as plt\n",
        "\n",
        "x = [89,43,36,36,95,10,66,34,38,20,26,29,48,64,6,5,36,66,72,40]\n",
        "y = [21,46,3,35,67,95,53,72,58,10,26,34,90,33,38,20,56,2,47,15]\n",
        "\n",
        "mymodel = numpy.poly1d(numpy.polyfit(x, y, 3))\n",
        "\n",
        "myline = numpy.linspace(2, 95, 100)\n",
        "\n",
        "plt.scatter(x, y)\n",
        "plt.plot(myline, mymodel(myline))\n",
        "plt.show()"
      ],
      "metadata": {
        "colab": {
          "base_uri": "https://localhost:8080/"
        },
        "id": "mtl4idCduuHC",
        "outputId": "2b318474-910b-4ca5-dcb4-dc19cd2b3636"
      },
      "execution_count": null,
      "outputs": [
        {
          "output_type": "display_data",
          "data": {
            "text/plain": [
              "<Figure size 640x480 with 1 Axes>"
            ],
            "image/png": "[encoded data removed]"
          },
          "metadata": {}
        }
      ]
    },
    {
      "cell_type": "markdown",
      "source": [
        "##### **R-Squared**"
      ],
      "metadata": {
        "id": "zHcExbwRwvE_"
      }
    },
    {
      "cell_type": "code",
      "source": [
        "import numpy\n",
        "from sklearn.metrics import r2_score\n",
        "\n",
        "x = [89,43,36,36,95,10,66,34,38,20,26,29,48,64,6,5,36,66,72,40]\n",
        "y = [21,46,3,35,67,95,53,72,58,10,26,34,90,33,38,20,56,2,47,15]\n",
        "\n",
        "mymodel = numpy.poly1d(numpy.polyfit(x, y, 3))\n",
        "\n",
        "print(r2_score(y, mymodel(x)))"
      ],
      "metadata": {
        "colab": {
          "base_uri": "https://localhost:8080/"
        },
        "id": "cvSjHZf6wtI0",
        "outputId": "ad8e1ef9-f34f-4d56-f828-05bfb4e60c34"
      },
      "execution_count": null,
      "outputs": [
        {
          "output_type": "stream",
          "name": "stdout",
          "text": [
            "0.009952707566680652\n"
          ]
        }
      ]
    },
    {
      "cell_type": "markdown",
      "source": [
        "***Note*** : 0,00995 menunjukkan hubungan yang sangat buruk, dan menunjukkan bahwa kumpulan data ini tidak cocok untuk polinomial regression."
      ],
      "metadata": {
        "id": "aKt-y8sOw5ch"
      }
    },
    {
      "cell_type": "markdown",
      "source": [
        "## **Multiple Regression**"
      ],
      "metadata": {
        "id": "Jzh9L8Brw_4E"
      }
    },
    {
      "cell_type": "markdown",
      "source": [
        "Multiple Regression sama seperti linear regression, tetapi memiliki lebih dari satu independent value, artinya kita mencoba memprediksi suatu nilai berdasarkan dua variabel atau lebih.\n",
        "\n",
        "Lihatlah dataset di bawah ini, yang berisi beberapa informasi tentang mobil."
      ],
      "metadata": {
        "id": "zlJhwnWqxDfe"
      }
    },
    {
      "cell_type": "code",
      "source": [
        "#Import dataset\n",
        "from google.colab import drive\n",
        "drive.mount('/content/drive')\n",
        "\n",
        "import pandas as pd\n",
        "df = pd.read_csv('drive/MyDrive/All Datasets/[Machine Learning Algorithm]/Dataset Machine Learning Regression/data (2).csv')\n",
        "df.head()"
      ],
      "metadata": {
        "colab": {
          "base_uri": "https://localhost:8080/",
          "height": 224
        },
        "id": "wIv9BXnbw0n2",
        "outputId": "6d435166-3354-40c0-8035-5d3baa190a2b"
      },
      "execution_count": null,
      "outputs": [
        {
          "output_type": "stream",
          "name": "stdout",
          "text": [
            "Drive already mounted at /content/drive; to attempt to forcibly remount, call drive.mount(\"/content/drive\", force_remount=True).\n"
          ]
        },
        {
          "output_type": "execute_result",
          "data": {
            "text/plain": [
              "          Car       Model  Volume  Weight  CO2\n",
              "0      Toyoty        Aygo    1000     790   99\n",
              "1  Mitsubishi  Space Star    1200    1160   95\n",
              "2       Skoda      Citigo    1000     929   95\n",
              "3        Fiat         500     900     865   90\n",
              "4        Mini      Cooper    1500    1140  105"
            ],
            "text/html": [
              "\n",
              "  <div id=\"df-100f8784-393e-4b17-bd6e-784df88875c2\" class=\"colab-df-container\">\n",
              "    <div>\n",
              "<style scoped>\n",
              "    .dataframe tbody tr th:only-of-type {\n",
              "        vertical-align: middle;\n",
              "    }\n",
              "\n",
              "    .dataframe tbody tr th {\n",
              "        vertical-align: top;\n",
              "    }\n",
              "\n",
              "    .dataframe thead th {\n",
              "        text-align: right;\n",
              "    }\n",
              "</style>\n",
              "<table border=\"1\" class=\"dataframe\">\n",
              "  <thead>\n",
              "    <tr style=\"text-align: right;\">\n",
              "      <th></th>\n",
              "      <th>Car</th>\n",
              "      <th>Model</th>\n",
              "      <th>Volume</th>\n",
              "      <th>Weight</th>\n",
              "      <th>CO2</th>\n",
              "    </tr>\n",
              "  </thead>\n",
              "  <tbody>\n",
              "    <tr>\n",
              "      <th>0</th>\n",
              "      <td>Toyoty</td>\n",
              "      <td>Aygo</td>\n",
              "      <td>1000</td>\n",
              "      <td>790</td>\n",
              "      <td>99</td>\n",
              "    </tr>\n",
              "    <tr>\n",
              "      <th>1</th>\n",
              "      <td>Mitsubishi</td>\n",
              "      <td>Space Star</td>\n",
              "      <td>1200</td>\n",
              "      <td>1160</td>\n",
              "      <td>95</td>\n",
              "    </tr>\n",
              "    <tr>\n",
              "      <th>2</th>\n",
              "      <td>Skoda</td>\n",
              "      <td>Citigo</td>\n",
              "      <td>1000</td>\n",
              "      <td>929</td>\n",
              "      <td>95</td>\n",
              "    </tr>\n",
              "    <tr>\n",
              "      <th>3</th>\n",
              "      <td>Fiat</td>\n",
              "      <td>500</td>\n",
              "      <td>900</td>\n",
              "      <td>865</td>\n",
              "      <td>90</td>\n",
              "    </tr>\n",
              "    <tr>\n",
              "      <th>4</th>\n",
              "      <td>Mini</td>\n",
              "      <td>Cooper</td>\n",
              "      <td>1500</td>\n",
              "      <td>1140</td>\n",
              "      <td>105</td>\n",
              "    </tr>\n",
              "  </tbody>\n",
              "</table>\n",
              "</div>\n",
              "    <div class=\"colab-df-buttons\">\n",
              "\n",
              "  <div class=\"colab-df-container\">\n",
              "    <button class=\"colab-df-convert\" onclick=\"convertToInteractive('df-100f8784-393e-4b17-bd6e-784df88875c2')\"\n",
              "            title=\"Convert this dataframe to an interactive table.\"\n",
              "            style=\"display:none;\">\n",
              "\n",
              "  <svg xmlns=\"http://www.w3.org/2000/svg\" height=\"24px\" viewBox=\"0 -960 960 960\">\n",
              "    <path d=\"M120-120v-720h720v720H120Zm60-500h600v-160H180v160Zm220 220h160v-160H400v160Zm0 220h160v-160H400v160ZM180-400h160v-160H180v160Zm440 0h160v-160H620v160ZM180-180h160v-160H180v160Zm440 0h160v-160H620v160Z\"/>\n",
              "  </svg>\n",
              "    </button>\n",
              "\n",
              "  <style>\n",
              "    .colab-df-container {\n",
              "      display:flex;\n",
              "      gap: 12px;\n",
              "    }\n",
              "\n",
              "    .colab-df-convert {\n",
              "      background-color: #E8F0FE;\n",
              "      border: none;\n",
              "      border-radius: 50%;\n",
              "      cursor: pointer;\n",
              "      display: none;\n",
              "      fill: #1967D2;\n",
              "      height: 32px;\n",
              "      padding: 0 0 0 0;\n",
              "      width: 32px;\n",
              "    }\n",
              "\n",
              "    .colab-df-convert:hover {\n",
              "      background-color: #E2EBFA;\n",
              "      box-shadow: 0px 1px 2px rgba(60, 64, 67, 0.3), 0px 1px 3px 1px rgba(60, 64, 67, 0.15);\n",
              "      fill: #174EA6;\n",
              "    }\n",
              "\n",
              "    .colab-df-buttons div {\n",
              "      margin-bottom: 4px;\n",
              "    }\n",
              "\n",
              "    [theme=dark] .colab-df-convert {\n",
              "      background-color: #3B4455;\n",
              "      fill: #D2E3FC;\n",
              "    }\n",
              "\n",
              "    [theme=dark] .colab-df-convert:hover {\n",
              "      background-color: #434B5C;\n",
              "      box-shadow: 0px 1px 3px 1px rgba(0, 0, 0, 0.15);\n",
              "      filter: drop-shadow(0px 1px 2px rgba(0, 0, 0, 0.3));\n",
              "      fill: #FFFFFF;\n",
              "    }\n",
              "  </style>\n",
              "\n",
              "    <script>\n",
              "      const buttonEl =\n",
              "        document.querySelector('#df-100f8784-393e-4b17-bd6e-784df88875c2 button.colab-df-convert');\n",
              "      buttonEl.style.display =\n",
              "        google.colab.kernel.accessAllowed ? 'block' : 'none';\n",
              "\n",
              "      async function convertToInteractive(key) {\n",
              "        const element = document.querySelector('#df-100f8784-393e-4b17-bd6e-784df88875c2');\n",
              "        const dataTable =\n",
              "          await google.colab.kernel.invokeFunction('convertToInteractive',\n",
              "                                                    [key], {});\n",
              "        if (!dataTable) return;\n",
              "\n",
              "        const docLinkHtml = 'Like what you see? Visit the ' +\n",
              "          '<a target=\"_blank\" href=https://colab.research.google.com/notebooks/data_table.ipynb>data table notebook</a>'\n",
              "          + ' to learn more about interactive tables.';\n",
              "        element.innerHTML = '';\n",
              "        dataTable['output_type'] = 'display_data';\n",
              "        await google.colab.output.renderOutput(dataTable, element);\n",
              "        const docLink = document.createElement('div');\n",
              "        docLink.innerHTML = docLinkHtml;\n",
              "        element.appendChild(docLink);\n",
              "      }\n",
              "    </script>\n",
              "  </div>\n",
              "\n",
              "\n",
              "<div id=\"df-69ca37a4-e219-4d58-962e-5cb34437b758\">\n",
              "  <button class=\"colab-df-quickchart\" onclick=\"quickchart('df-69ca37a4-e219-4d58-962e-5cb34437b758')\"\n",
              "            title=\"Suggest charts\"\n",
              "            style=\"display:none;\">\n",
              "\n",
              "<svg xmlns=\"http://www.w3.org/2000/svg\" height=\"24px\"viewBox=\"0 0 24 24\"\n",
              "     width=\"24px\">\n",
              "    <g>\n",
              "        <path d=\"M19 3H5c-1.1 0-2 .9-2 2v14c0 1.1.9 2 2 2h14c1.1 0 2-.9 2-2V5c0-1.1-.9-2-2-2zM9 17H7v-7h2v7zm4 0h-2V7h2v10zm4 0h-2v-4h2v4z\"/>\n",
              "    </g>\n",
              "</svg>\n",
              "  </button>\n",
              "\n",
              "<style>\n",
              "  .colab-df-quickchart {\n",
              "      --bg-color: #E8F0FE;\n",
              "      --fill-color: #1967D2;\n",
              "      --hover-bg-color: #E2EBFA;\n",
              "      --hover-fill-color: #174EA6;\n",
              "      --disabled-fill-color: #AAA;\n",
              "      --disabled-bg-color: #DDD;\n",
              "  }\n",
              "\n",
              "  [theme=dark] .colab-df-quickchart {\n",
              "      --bg-color: #3B4455;\n",
              "      --fill-color: #D2E3FC;\n",
              "      --hover-bg-color: #434B5C;\n",
              "      --hover-fill-color: #FFFFFF;\n",
              "      --disabled-bg-color: #3B4455;\n",
              "      --disabled-fill-color: #666;\n",
              "  }\n",
              "\n",
              "  .colab-df-quickchart {\n",
              "    background-color: var(--bg-color);\n",
              "    border: none;\n",
              "    border-radius: 50%;\n",
              "    cursor: pointer;\n",
              "    display: none;\n",
              "    fill: var(--fill-color);\n",
              "    height: 32px;\n",
              "    padding: 0;\n",
              "    width: 32px;\n",
              "  }\n",
              "\n",
              "  .colab-df-quickchart:hover {\n",
              "    background-color: var(--hover-bg-color);\n",
              "    box-shadow: 0 1px 2px rgba(60, 64, 67, 0.3), 0 1px 3px 1px rgba(60, 64, 67, 0.15);\n",
              "    fill: var(--button-hover-fill-color);\n",
              "  }\n",
              "\n",
              "  .colab-df-quickchart-complete:disabled,\n",
              "  .colab-df-quickchart-complete:disabled:hover {\n",
              "    background-color: var(--disabled-bg-color);\n",
              "    fill: var(--disabled-fill-color);\n",
              "    box-shadow: none;\n",
              "  }\n",
              "\n",
              "  .colab-df-spinner {\n",
              "    border: 2px solid var(--fill-color);\n",
              "    border-color: transparent;\n",
              "    border-bottom-color: var(--fill-color);\n",
              "    animation:\n",
              "      spin 1s steps(1) infinite;\n",
              "  }\n",
              "\n",
              "  @keyframes spin {\n",
              "    0% {\n",
              "      border-color: transparent;\n",
              "      border-bottom-color: var(--fill-color);\n",
              "      border-left-color: var(--fill-color);\n",
              "    }\n",
              "    20% {\n",
              "      border-color: transparent;\n",
              "      border-left-color: var(--fill-color);\n",
              "      border-top-color: var(--fill-color);\n",
              "    }\n",
              "    30% {\n",
              "      border-color: transparent;\n",
              "      border-left-color: var(--fill-color);\n",
              "      border-top-color: var(--fill-color);\n",
              "      border-right-color: var(--fill-color);\n",
              "    }\n",
              "    40% {\n",
              "      border-color: transparent;\n",
              "      border-right-color: var(--fill-color);\n",
              "      border-top-color: var(--fill-color);\n",
              "    }\n",
              "    60% {\n",
              "      border-color: transparent;\n",
              "      border-right-color: var(--fill-color);\n",
              "    }\n",
              "    80% {\n",
              "      border-color: transparent;\n",
              "      border-right-color: var(--fill-color);\n",
              "      border-bottom-color: var(--fill-color);\n",
              "    }\n",
              "    90% {\n",
              "      border-color: transparent;\n",
              "      border-bottom-color: var(--fill-color);\n",
              "    }\n",
              "  }\n",
              "</style>\n",
              "\n",
              "  <script>\n",
              "    async function quickchart(key) {\n",
              "      const quickchartButtonEl =\n",
              "        document.querySelector('#' + key + ' button');\n",
              "      quickchartButtonEl.disabled = true;  // To prevent multiple clicks.\n",
              "      quickchartButtonEl.classList.add('colab-df-spinner');\n",
              "      try {\n",
              "        const charts = await google.colab.kernel.invokeFunction(\n",
              "            'suggestCharts', [key], {});\n",
              "      } catch (error) {\n",
              "        console.error('Error during call to suggestCharts:', error);\n",
              "      }\n",
              "      quickchartButtonEl.classList.remove('colab-df-spinner');\n",
              "      quickchartButtonEl.classList.add('colab-df-quickchart-complete');\n",
              "    }\n",
              "    (() => {\n",
              "      let quickchartButtonEl =\n",
              "        document.querySelector('#df-69ca37a4-e219-4d58-962e-5cb34437b758 button');\n",
              "      quickchartButtonEl.style.display =\n",
              "        google.colab.kernel.accessAllowed ? 'block' : 'none';\n",
              "    })();\n",
              "  </script>\n",
              "</div>\n",
              "    </div>\n",
              "  </div>\n"
            ],
            "application/vnd.google.colaboratory.intrinsic+json": {
              "type": "dataframe",
              "variable_name": "df",
              "summary": "{\n  \"name\": \"df\",\n  \"rows\": 36,\n  \"fields\": [\n    {\n      \"column\": \"Car\",\n      \"properties\": {\n        \"dtype\": \"category\",\n        \"num_unique_values\": 17,\n        \"samples\": [\n          \"Toyoty\",\n          \"Mitsubishi\",\n          \"VW\"\n        ],\n        \"semantic_type\": \"\",\n        \"description\": \"\"\n      }\n    },\n    {\n      \"column\": \"Model\",\n      \"properties\": {\n        \"dtype\": \"string\",\n        \"num_unique_values\": 35,\n        \"samples\": [\n          \"A6\",\n          \"I30\",\n          \"CLA\"\n        ],\n        \"semantic_type\": \"\",\n        \"description\": \"\"\n      }\n    },\n    {\n      \"column\": \"Volume\",\n      \"properties\": {\n        \"dtype\": \"number\",\n        \"std\": 388,\n        \"min\": 900,\n        \"max\": 2500,\n        \"num_unique_values\": 12,\n        \"samples\": [\n          2100,\n          2000,\n          1000\n        ],\n        \"semantic_type\": \"\",\n        \"description\": \"\"\n      }\n    },\n    {\n      \"column\": \"Weight\",\n      \"properties\": {\n        \"dtype\": \"number\",\n        \"std\": 242,\n        \"min\": 790,\n        \"max\": 1746,\n        \"num_unique_values\": 31,\n        \"samples\": [\n          1235,\n          1119,\n          1523\n        ],\n        \"semantic_type\": \"\",\n        \"description\": \"\"\n      }\n    },\n    {\n      \"column\": \"CO2\",\n      \"properties\": {\n        \"dtype\": \"number\",\n        \"std\": 7,\n        \"min\": 90,\n        \"max\": 120,\n        \"num_unique_values\": 17,\n        \"samples\": [\n          99,\n          95,\n          98\n        ],\n        \"semantic_type\": \"\",\n        \"description\": \"\"\n      }\n    }\n  ]\n}"
            }
          },
          "metadata": {},
          "execution_count": 44
        }
      ]
    },
    {
      "cell_type": "markdown",
      "source": [
        "Kita dapat memprediksi emisi CO2 sebuah mobil berdasarkan ukuran mesinnya, namun dengan multiple regression kita dapat memasukkan lebih banyak variabel, seperti bobot mobil, untuk membuat prediksi tersebut lebih akurat."
      ],
      "metadata": {
        "id": "zQiJ1MWUyAwm"
      }
    },
    {
      "cell_type": "markdown",
      "source": [
        "### **How Does it Work?**\n",
        "\n"
      ],
      "metadata": {
        "id": "ScH5PnrtyR5q"
      }
    },
    {
      "cell_type": "code",
      "source": [
        "#Import dataset\n",
        "from google.colab import drive\n",
        "drive.mount('/content/drive')\n",
        "\n",
        "import pandas as pd\n",
        "df = pd.read_csv('drive/MyDrive/All Datasets/[Machine Learning Algorithm]/Dataset Machine Learning Regression/data (2).csv')\n",
        "\n",
        "#Kemudian buatlah daftar incependent value dan beri nama variabel ini X.\n",
        "#Masukkan dependent value ke dalam variabel bernama y.\n",
        "\n",
        "X = df[['Weight', 'Volume']]\n",
        "y = df['CO2']\n",
        "\n",
        "## Tip: Biasanya memberi nama daftar independent value dengan huruf besar X,\n",
        "## dan daftar dependent value dengan huruf kecil y.\n",
        "\n",
        "#Kita akan menggunakan beberapa metode dari modul sklearn, jadi kita harus mengimpor modul itu juga:\n",
        "from sklearn import linear_model\n",
        "\n",
        "#Dari modul sklearn kita akan menggunakan metode LinearRegression() untuk membuat linear regression object.\n",
        "#Object ini memiliki metode yang disebut fit() yang mengambil independent value dan dependent value sebagai parameter dan mengisi regression object dengan data yang menjelaskan hubungan tersebut:\n",
        "regr = linear_model.LinearRegression()\n",
        "regr.fit(X, y)\n",
        "\n",
        "#Sekarang kita memiliki regression object yang siap memprediksi nilai CO2 berdasarkan berat dan volume mobil:\n",
        "\n",
        "#predict the CO2 emission of a car where the weight is 2300kg, and the volume is 1300cm3:\n",
        "predictedCO2 = regr.predict([[2300, 1300]])\n",
        "\n",
        "print(f'Predicted the CO2 emission of a car based on the size of the engine is : {predictedCO2} gram CO2 / km')"
      ],
      "metadata": {
        "colab": {
          "base_uri": "https://localhost:8080/"
        },
        "id": "NGmlWkZVxzfM",
        "outputId": "456f89d6-3153-4a71-a5c2-8d99d651250f"
      },
      "execution_count": null,
      "outputs": [
        {
          "output_type": "stream",
          "name": "stdout",
          "text": [
            "Drive already mounted at /content/drive; to attempt to forcibly remount, call drive.mount(\"/content/drive\", force_remount=True).\n",
            "Predicted the CO2 emission of a car based on the size of the engine is : [107.2087328] gram CO2 / km\n"
          ]
        },
        {
          "output_type": "stream",
          "name": "stderr",
          "text": [
            "/usr/local/lib/python3.10/dist-packages/sklearn/base.py:439: UserWarning: X does not have valid feature names, but LinearRegression was fitted with feature names\n",
            "  warnings.warn(\n"
          ]
        }
      ]
    },
    {
      "cell_type": "markdown",
      "source": [
        "Kita memperkirakan mobil dengan 1,3 liter engine dengan weight 2.300 kg akan mengeluarkan sekitar 107 gram CO2 untuk setiap kilometer yang dikendarainya."
      ],
      "metadata": {
        "id": "WRHoJVEz1WpN"
      }
    },
    {
      "cell_type": "markdown",
      "source": [
        "### **Coefficient**"
      ],
      "metadata": {
        "id": "kMR4bDqA2S-D"
      }
    },
    {
      "cell_type": "markdown",
      "source": [
        "Coefficient merupakan faktor yang menggambarkan hubungan dengan suatu variabel yang tidak diketahui.\n",
        "\n",
        "Contoh: jika $x$ adalah variabel, maka $2x$ adalah $x$ dua kali. $x$ adalah variabel yang tidak diketahui, dan angka 2 adalah coefficient-nya.\n",
        "\n",
        "Dalam hal ini, kita dapat menanyakan coefficient value dari weight terhadap CO2, dan volume terhadap CO2. Jawaban yang kita peroleh memberi tahu kita apa yang akan terjadi jika kita menambah atau mengurangi salah satu independent values.\n",
        "\n",
        "Contoh :\n",
        "Print the coefficient values of the regression object:"
      ],
      "metadata": {
        "id": "FQknQ1912WiS"
      }
    },
    {
      "cell_type": "code",
      "source": [
        "import pandas\n",
        "from sklearn import linear_model\n",
        "\n",
        "from google.colab import drive\n",
        "drive.mount('/content/drive')\n",
        "\n",
        "import pandas as pd\n",
        "df = pd.read_csv('drive/MyDrive/All Datasets/[Machine Learning Algorithm]/Dataset Machine Learning Regression/data (2).csv')\n",
        "\n",
        "X = df[['Weight', 'Volume']]\n",
        "y = df['CO2']\n",
        "\n",
        "regr = linear_model.LinearRegression()\n",
        "regr.fit(X, y)\n",
        "\n",
        "print(regr.coef_)"
      ],
      "metadata": {
        "colab": {
          "base_uri": "https://localhost:8080/"
        },
        "id": "ggnLeY591Lvq",
        "outputId": "cb33c450-df96-4635-9082-2d886743f1d8"
      },
      "execution_count": null,
      "outputs": [
        {
          "output_type": "stream",
          "name": "stdout",
          "text": [
            "Drive already mounted at /content/drive; to attempt to forcibly remount, call drive.mount(\"/content/drive\", force_remount=True).\n",
            "[0.00755095 0.00780526]\n"
          ]
        }
      ]
    },
    {
      "cell_type": "markdown",
      "source": [
        "#### **Result Explained**\n",
        "\n",
        "Array hasil mewakili coefficient values of weights and values.\n",
        "*   Weight: 0.00755095\n",
        "*   Volume: 0.00780526\n",
        "\n",
        "Nilai-nilai ini memberitahu kita bahwa jika **weight** bertambah 1kg, **emisi CO2** meningkat sebesar 0,00755095g.\n",
        "\n",
        "Dan jika **ukuran mesin (Volume**) bertambah 1 cm3 maka **emisi CO2** bertambah 0,00780526 g.\n",
        "\n",
        "Menurut saya itu tebakan yang adil, tapi mari kita uji!\n",
        "\n",
        "Kita sudah memperkirakan jika sebuah mobil bermesin 1300cm3 memiliki berat 2300kg, maka emisi CO2-nya akan menjadi sekitar 107g.\n",
        "\n",
        "Bagaimana jika kita menambah **weight** dengan 1000kg?"
      ],
      "metadata": {
        "id": "TD4Hw2BB3U1z"
      }
    },
    {
      "cell_type": "markdown",
      "source": [
        "Salin contoh sebelumnya, tetapi ubah weight dari 2300 menjadi 3300:"
      ],
      "metadata": {
        "id": "0lsi5QZN4gIu"
      }
    },
    {
      "cell_type": "code",
      "source": [
        "import pandas\n",
        "from sklearn import linear_model\n",
        "\n",
        "from google.colab import drive\n",
        "drive.mount('/content/drive')\n",
        "\n",
        "import pandas as pd\n",
        "df = pd.read_csv('drive/MyDrive/All Datasets/[Machine Learning Algorithm]/Dataset Machine Learning Regression/data (2).csv')\n",
        "df.head()\n",
        "\n",
        "X = df[['Weight', 'Volume']]\n",
        "y = df['CO2']\n",
        "\n",
        "regr = linear_model.LinearRegression()\n",
        "regr.fit(X, y)\n",
        "\n",
        "predictedCO2 = regr.predict([[3300, 1300]])\n",
        "\n",
        "print(predictedCO2)"
      ],
      "metadata": {
        "colab": {
          "base_uri": "https://localhost:8080/"
        },
        "id": "X9Od3C1T3Og9",
        "outputId": "a58fe011-d95b-4ae2-8d98-31d697cf4823"
      },
      "execution_count": null,
      "outputs": [
        {
          "output_type": "stream",
          "name": "stdout",
          "text": [
            "Drive already mounted at /content/drive; to attempt to forcibly remount, call drive.mount(\"/content/drive\", force_remount=True).\n",
            "[114.75968007]\n"
          ]
        },
        {
          "output_type": "stream",
          "name": "stderr",
          "text": [
            "/usr/local/lib/python3.10/dist-packages/sklearn/base.py:439: UserWarning: X does not have valid feature names, but LinearRegression was fitted with feature names\n",
            "  warnings.warn(\n"
          ]
        }
      ]
    },
    {
      "cell_type": "markdown",
      "source": [
        "Kita memperkirakan mobil bermesin 1,3 liter dan **weight** 3300 kg akan mengeluarkan sekitar 115 gram CO2 untuk setiap kilometer yang dikendarainya.\n",
        "\n",
        "Yang menunjukkan bahwa coefficient 0,00755095 adalah  benar:\n",
        "\n",
        "107.2087328 + (1000 * 0.00755095) = 114.75968"
      ],
      "metadata": {
        "id": "CqANp8gU4wX6"
      }
    },
    {
      "cell_type": "markdown",
      "source": [
        "### **Scales Features**"
      ],
      "metadata": {
        "id": "nBhNcb1P5Mnf"
      }
    },
    {
      "cell_type": "markdown",
      "source": [
        "Ketika data Anda memiliki nilai yang berbeda, dan bahkan unit pengukuran yang berbeda, akan sulit untuk membandingkannya. Berapa kilogram dibandingkan dengan meter? Atau ketinggian dibandingkan dengan waktu?\n",
        "\n",
        "Jawaban atas masalah ini adalah **scaling**. Kita dapat menskalakan data menjadi nilai-nilai baru yang lebih mudah untuk dibandingkan.\n",
        "\n",
        "Lihatlah tabel di bawah ini, ini adalah kumpulan data yang sama yang kita gunakan pada bab regresi berganda, namun kali ini kolom volume berisi nilai dalam liter, bukan cm3 (1,0, bukan 1000)."
      ],
      "metadata": {
        "id": "SRbRcApH5OPF"
      }
    },
    {
      "cell_type": "code",
      "source": [
        "import pandas as pd\n",
        "\n",
        "from google.colab import drive\n",
        "drive.mount('/content/drive')\n",
        "\n",
        "import pandas as pd\n",
        "df = pd.read_csv('drive/MyDrive/All Datasets/[Machine Learning Algorithm]/Dataset Machine Learning Regression/data (2).csv')\n",
        "df.head()"
      ],
      "metadata": {
        "colab": {
          "base_uri": "https://localhost:8080/",
          "height": 224
        },
        "id": "SgQo7ADR4pSy",
        "outputId": "f9677ede-2133-4f26-f7c2-0f3a9a0b7081"
      },
      "execution_count": null,
      "outputs": [
        {
          "output_type": "stream",
          "name": "stdout",
          "text": [
            "Drive already mounted at /content/drive; to attempt to forcibly remount, call drive.mount(\"/content/drive\", force_remount=True).\n"
          ]
        },
        {
          "output_type": "execute_result",
          "data": {
            "text/plain": [
              "          Car       Model  Volume  Weight  CO2\n",
              "0      Toyoty        Aygo    1000     790   99\n",
              "1  Mitsubishi  Space Star    1200    1160   95\n",
              "2       Skoda      Citigo    1000     929   95\n",
              "3        Fiat         500     900     865   90\n",
              "4        Mini      Cooper    1500    1140  105"
            ],
            "text/html": [
              "\n",
              "  <div id=\"df-ab5a7d45-e34b-424a-bf8a-dd8d5e8d29bb\" class=\"colab-df-container\">\n",
              "    <div>\n",
              "<style scoped>\n",
              "    .dataframe tbody tr th:only-of-type {\n",
              "        vertical-align: middle;\n",
              "    }\n",
              "\n",
              "    .dataframe tbody tr th {\n",
              "        vertical-align: top;\n",
              "    }\n",
              "\n",
              "    .dataframe thead th {\n",
              "        text-align: right;\n",
              "    }\n",
              "</style>\n",
              "<table border=\"1\" class=\"dataframe\">\n",
              "  <thead>\n",
              "    <tr style=\"text-align: right;\">\n",
              "      <th></th>\n",
              "      <th>Car</th>\n",
              "      <th>Model</th>\n",
              "      <th>Volume</th>\n",
              "      <th>Weight</th>\n",
              "      <th>CO2</th>\n",
              "    </tr>\n",
              "  </thead>\n",
              "  <tbody>\n",
              "    <tr>\n",
              "      <th>0</th>\n",
              "      <td>Toyoty</td>\n",
              "      <td>Aygo</td>\n",
              "      <td>1000</td>\n",
              "      <td>790</td>\n",
              "      <td>99</td>\n",
              "    </tr>\n",
              "    <tr>\n",
              "      <th>1</th>\n",
              "      <td>Mitsubishi</td>\n",
              "      <td>Space Star</td>\n",
              "      <td>1200</td>\n",
              "      <td>1160</td>\n",
              "      <td>95</td>\n",
              "    </tr>\n",
              "    <tr>\n",
              "      <th>2</th>\n",
              "      <td>Skoda</td>\n",
              "      <td>Citigo</td>\n",
              "      <td>1000</td>\n",
              "      <td>929</td>\n",
              "      <td>95</td>\n",
              "    </tr>\n",
              "    <tr>\n",
              "      <th>3</th>\n",
              "      <td>Fiat</td>\n",
              "      <td>500</td>\n",
              "      <td>900</td>\n",
              "      <td>865</td>\n",
              "      <td>90</td>\n",
              "    </tr>\n",
              "    <tr>\n",
              "      <th>4</th>\n",
              "      <td>Mini</td>\n",
              "      <td>Cooper</td>\n",
              "      <td>1500</td>\n",
              "      <td>1140</td>\n",
              "      <td>105</td>\n",
              "    </tr>\n",
              "  </tbody>\n",
              "</table>\n",
              "</div>\n",
              "    <div class=\"colab-df-buttons\">\n",
              "\n",
              "  <div class=\"colab-df-container\">\n",
              "    <button class=\"colab-df-convert\" onclick=\"convertToInteractive('df-ab5a7d45-e34b-424a-bf8a-dd8d5e8d29bb')\"\n",
              "            title=\"Convert this dataframe to an interactive table.\"\n",
              "            style=\"display:none;\">\n",
              "\n",
              "  <svg xmlns=\"http://www.w3.org/2000/svg\" height=\"24px\" viewBox=\"0 -960 960 960\">\n",
              "    <path d=\"M120-120v-720h720v720H120Zm60-500h600v-160H180v160Zm220 220h160v-160H400v160Zm0 220h160v-160H400v160ZM180-400h160v-160H180v160Zm440 0h160v-160H620v160ZM180-180h160v-160H180v160Zm440 0h160v-160H620v160Z\"/>\n",
              "  </svg>\n",
              "    </button>\n",
              "\n",
              "  <style>\n",
              "    .colab-df-container {\n",
              "      display:flex;\n",
              "      gap: 12px;\n",
              "    }\n",
              "\n",
              "    .colab-df-convert {\n",
              "      background-color: #E8F0FE;\n",
              "      border: none;\n",
              "      border-radius: 50%;\n",
              "      cursor: pointer;\n",
              "      display: none;\n",
              "      fill: #1967D2;\n",
              "      height: 32px;\n",
              "      padding: 0 0 0 0;\n",
              "      width: 32px;\n",
              "    }\n",
              "\n",
              "    .colab-df-convert:hover {\n",
              "      background-color: #E2EBFA;\n",
              "      box-shadow: 0px 1px 2px rgba(60, 64, 67, 0.3), 0px 1px 3px 1px rgba(60, 64, 67, 0.15);\n",
              "      fill: #174EA6;\n",
              "    }\n",
              "\n",
              "    .colab-df-buttons div {\n",
              "      margin-bottom: 4px;\n",
              "    }\n",
              "\n",
              "    [theme=dark] .colab-df-convert {\n",
              "      background-color: #3B4455;\n",
              "      fill: #D2E3FC;\n",
              "    }\n",
              "\n",
              "    [theme=dark] .colab-df-convert:hover {\n",
              "      background-color: #434B5C;\n",
              "      box-shadow: 0px 1px 3px 1px rgba(0, 0, 0, 0.15);\n",
              "      filter: drop-shadow(0px 1px 2px rgba(0, 0, 0, 0.3));\n",
              "      fill: #FFFFFF;\n",
              "    }\n",
              "  </style>\n",
              "\n",
              "    <script>\n",
              "      const buttonEl =\n",
              "        document.querySelector('#df-ab5a7d45-e34b-424a-bf8a-dd8d5e8d29bb button.colab-df-convert');\n",
              "      buttonEl.style.display =\n",
              "        google.colab.kernel.accessAllowed ? 'block' : 'none';\n",
              "\n",
              "      async function convertToInteractive(key) {\n",
              "        const element = document.querySelector('#df-ab5a7d45-e34b-424a-bf8a-dd8d5e8d29bb');\n",
              "        const dataTable =\n",
              "          await google.colab.kernel.invokeFunction('convertToInteractive',\n",
              "                                                    [key], {});\n",
              "        if (!dataTable) return;\n",
              "\n",
              "        const docLinkHtml = 'Like what you see? Visit the ' +\n",
              "          '<a target=\"_blank\" href=https://colab.research.google.com/notebooks/data_table.ipynb>data table notebook</a>'\n",
              "          + ' to learn more about interactive tables.';\n",
              "        element.innerHTML = '';\n",
              "        dataTable['output_type'] = 'display_data';\n",
              "        await google.colab.output.renderOutput(dataTable, element);\n",
              "        const docLink = document.createElement('div');\n",
              "        docLink.innerHTML = docLinkHtml;\n",
              "        element.appendChild(docLink);\n",
              "      }\n",
              "    </script>\n",
              "  </div>\n",
              "\n",
              "\n",
              "<div id=\"df-eb0c9d11-4fb8-49ec-b607-60b427a89708\">\n",
              "  <button class=\"colab-df-quickchart\" onclick=\"quickchart('df-eb0c9d11-4fb8-49ec-b607-60b427a89708')\"\n",
              "            title=\"Suggest charts\"\n",
              "            style=\"display:none;\">\n",
              "\n",
              "<svg xmlns=\"http://www.w3.org/2000/svg\" height=\"24px\"viewBox=\"0 0 24 24\"\n",
              "     width=\"24px\">\n",
              "    <g>\n",
              "        <path d=\"M19 3H5c-1.1 0-2 .9-2 2v14c0 1.1.9 2 2 2h14c1.1 0 2-.9 2-2V5c0-1.1-.9-2-2-2zM9 17H7v-7h2v7zm4 0h-2V7h2v10zm4 0h-2v-4h2v4z\"/>\n",
              "    </g>\n",
              "</svg>\n",
              "  </button>\n",
              "\n",
              "<style>\n",
              "  .colab-df-quickchart {\n",
              "      --bg-color: #E8F0FE;\n",
              "      --fill-color: #1967D2;\n",
              "      --hover-bg-color: #E2EBFA;\n",
              "      --hover-fill-color: #174EA6;\n",
              "      --disabled-fill-color: #AAA;\n",
              "      --disabled-bg-color: #DDD;\n",
              "  }\n",
              "\n",
              "  [theme=dark] .colab-df-quickchart {\n",
              "      --bg-color: #3B4455;\n",
              "      --fill-color: #D2E3FC;\n",
              "      --hover-bg-color: #434B5C;\n",
              "      --hover-fill-color: #FFFFFF;\n",
              "      --disabled-bg-color: #3B4455;\n",
              "      --disabled-fill-color: #666;\n",
              "  }\n",
              "\n",
              "  .colab-df-quickchart {\n",
              "    background-color: var(--bg-color);\n",
              "    border: none;\n",
              "    border-radius: 50%;\n",
              "    cursor: pointer;\n",
              "    display: none;\n",
              "    fill: var(--fill-color);\n",
              "    height: 32px;\n",
              "    padding: 0;\n",
              "    width: 32px;\n",
              "  }\n",
              "\n",
              "  .colab-df-quickchart:hover {\n",
              "    background-color: var(--hover-bg-color);\n",
              "    box-shadow: 0 1px 2px rgba(60, 64, 67, 0.3), 0 1px 3px 1px rgba(60, 64, 67, 0.15);\n",
              "    fill: var(--button-hover-fill-color);\n",
              "  }\n",
              "\n",
              "  .colab-df-quickchart-complete:disabled,\n",
              "  .colab-df-quickchart-complete:disabled:hover {\n",
              "    background-color: var(--disabled-bg-color);\n",
              "    fill: var(--disabled-fill-color);\n",
              "    box-shadow: none;\n",
              "  }\n",
              "\n",
              "  .colab-df-spinner {\n",
              "    border: 2px solid var(--fill-color);\n",
              "    border-color: transparent;\n",
              "    border-bottom-color: var(--fill-color);\n",
              "    animation:\n",
              "      spin 1s steps(1) infinite;\n",
              "  }\n",
              "\n",
              "  @keyframes spin {\n",
              "    0% {\n",
              "      border-color: transparent;\n",
              "      border-bottom-color: var(--fill-color);\n",
              "      border-left-color: var(--fill-color);\n",
              "    }\n",
              "    20% {\n",
              "      border-color: transparent;\n",
              "      border-left-color: var(--fill-color);\n",
              "      border-top-color: var(--fill-color);\n",
              "    }\n",
              "    30% {\n",
              "      border-color: transparent;\n",
              "      border-left-color: var(--fill-color);\n",
              "      border-top-color: var(--fill-color);\n",
              "      border-right-color: var(--fill-color);\n",
              "    }\n",
              "    40% {\n",
              "      border-color: transparent;\n",
              "      border-right-color: var(--fill-color);\n",
              "      border-top-color: var(--fill-color);\n",
              "    }\n",
              "    60% {\n",
              "      border-color: transparent;\n",
              "      border-right-color: var(--fill-color);\n",
              "    }\n",
              "    80% {\n",
              "      border-color: transparent;\n",
              "      border-right-color: var(--fill-color);\n",
              "      border-bottom-color: var(--fill-color);\n",
              "    }\n",
              "    90% {\n",
              "      border-color: transparent;\n",
              "      border-bottom-color: var(--fill-color);\n",
              "    }\n",
              "  }\n",
              "</style>\n",
              "\n",
              "  <script>\n",
              "    async function quickchart(key) {\n",
              "      const quickchartButtonEl =\n",
              "        document.querySelector('#' + key + ' button');\n",
              "      quickchartButtonEl.disabled = true;  // To prevent multiple clicks.\n",
              "      quickchartButtonEl.classList.add('colab-df-spinner');\n",
              "      try {\n",
              "        const charts = await google.colab.kernel.invokeFunction(\n",
              "            'suggestCharts', [key], {});\n",
              "      } catch (error) {\n",
              "        console.error('Error during call to suggestCharts:', error);\n",
              "      }\n",
              "      quickchartButtonEl.classList.remove('colab-df-spinner');\n",
              "      quickchartButtonEl.classList.add('colab-df-quickchart-complete');\n",
              "    }\n",
              "    (() => {\n",
              "      let quickchartButtonEl =\n",
              "        document.querySelector('#df-eb0c9d11-4fb8-49ec-b607-60b427a89708 button');\n",
              "      quickchartButtonEl.style.display =\n",
              "        google.colab.kernel.accessAllowed ? 'block' : 'none';\n",
              "    })();\n",
              "  </script>\n",
              "</div>\n",
              "    </div>\n",
              "  </div>\n"
            ],
            "application/vnd.google.colaboratory.intrinsic+json": {
              "type": "dataframe",
              "variable_name": "df",
              "summary": "{\n  \"name\": \"df\",\n  \"rows\": 36,\n  \"fields\": [\n    {\n      \"column\": \"Car\",\n      \"properties\": {\n        \"dtype\": \"category\",\n        \"num_unique_values\": 17,\n        \"samples\": [\n          \"Toyoty\",\n          \"Mitsubishi\",\n          \"VW\"\n        ],\n        \"semantic_type\": \"\",\n        \"description\": \"\"\n      }\n    },\n    {\n      \"column\": \"Model\",\n      \"properties\": {\n        \"dtype\": \"string\",\n        \"num_unique_values\": 35,\n        \"samples\": [\n          \"A6\",\n          \"I30\",\n          \"CLA\"\n        ],\n        \"semantic_type\": \"\",\n        \"description\": \"\"\n      }\n    },\n    {\n      \"column\": \"Volume\",\n      \"properties\": {\n        \"dtype\": \"number\",\n        \"std\": 388,\n        \"min\": 900,\n        \"max\": 2500,\n        \"num_unique_values\": 12,\n        \"samples\": [\n          2100,\n          2000,\n          1000\n        ],\n        \"semantic_type\": \"\",\n        \"description\": \"\"\n      }\n    },\n    {\n      \"column\": \"Weight\",\n      \"properties\": {\n        \"dtype\": \"number\",\n        \"std\": 242,\n        \"min\": 790,\n        \"max\": 1746,\n        \"num_unique_values\": 31,\n        \"samples\": [\n          1235,\n          1119,\n          1523\n        ],\n        \"semantic_type\": \"\",\n        \"description\": \"\"\n      }\n    },\n    {\n      \"column\": \"CO2\",\n      \"properties\": {\n        \"dtype\": \"number\",\n        \"std\": 7,\n        \"min\": 90,\n        \"max\": 120,\n        \"num_unique_values\": 17,\n        \"samples\": [\n          99,\n          95,\n          98\n        ],\n        \"semantic_type\": \"\",\n        \"description\": \"\"\n      }\n    }\n  ]\n}"
            }
          },
          "metadata": {},
          "execution_count": 48
        }
      ]
    },
    {
      "cell_type": "markdown",
      "source": [
        "Mungkin sulit untuk membandingkan volume 1.0 dengan weight 790, namun jika kita menskalakan keduanya ke dalam nilai yang sebanding, kita dapat dengan mudah melihat seberapa besar satu nilai dibandingkan dengan nilai lainnya.\n",
        "\n",
        "Ada berbagai metode untuk menskalakan data, dalam tutorial ini kita akan menggunakan metode yang disebut standarization.\n",
        "\n",
        "The standardization method uses this formula:\n",
        "\n",
        "**$z = (x - u) / s$**\n",
        "\n",
        "Dimana $z$ adalah new value , $x$ adalah original value , $u$ adalah mean value dan $s$ adalah standard deviation value.\n",
        "\n",
        "Jika Anda mengambil kolom **weight** dari dataset di atas, nilai pertama adalah 790, dan nilai skalanya adalah:\n",
        "\n",
        "**$(790 - 1292.23) / 238.74 = -2.1$**\n",
        "\n",
        "Jika Anda mengambil kolom **volume** dari dataset di atas, nilai pertama adalah 1.0, dan nilai skalanya adalah:\n",
        "\n",
        "**$(1.0 - 1.61) / 0.38 = -1.59$**\n",
        "\n",
        "Sekarang Anda dapat membandingkan -2.1 dengan -1.59 daripada membandingkan 790 dengan 1.0.\n",
        "\n",
        "Anda tidak perlu melakukan ini secara manual, modul sklearn Python memiliki metode yang disebut ***StandardScaler()*** yang mengembalikan objek Scaler dengan metode untuk mengubah kumpulan data.\n",
        "\n",
        "Contoh:\n",
        "Skalakan semua nilai di kolom **Weight** dan **Volume**:"
      ],
      "metadata": {
        "id": "Vlow1QK058sg"
      }
    },
    {
      "cell_type": "code",
      "source": [
        "import pandas as pd\n",
        "from sklearn import linear_model\n",
        "from sklearn.preprocessing import StandardScaler\n",
        "scale = StandardScaler()\n",
        "\n",
        "from google.colab import drive\n",
        "drive.mount('/content/drive')\n",
        "\n",
        "import pandas as pd\n",
        "df = pd.read_csv('drive/MyDrive/All Datasets/[Machine Learning Algorithm]/Dataset Machine Learning Regression/data (2).csv')\n",
        "\n",
        "X = df[['Weight', 'Volume']]\n",
        "\n",
        "scaledX = scale.fit_transform(X)\n",
        "\n",
        "print(scaledX)"
      ],
      "metadata": {
        "colab": {
          "base_uri": "https://localhost:8080/"
        },
        "id": "woIn5xfI5tfR",
        "outputId": "744d77d3-8ee0-42ab-cf9f-c92902189ffc"
      },
      "execution_count": null,
      "outputs": [
        {
          "output_type": "stream",
          "name": "stdout",
          "text": [
            "Drive already mounted at /content/drive; to attempt to forcibly remount, call drive.mount(\"/content/drive\", force_remount=True).\n",
            "[[-2.10389253 -1.59336644]\n",
            " [-0.55407235 -1.07190106]\n",
            " [-1.52166278 -1.59336644]\n",
            " [-1.78973979 -1.85409913]\n",
            " [-0.63784641 -0.28970299]\n",
            " [-1.52166278 -1.59336644]\n",
            " [-0.76769621 -0.55043568]\n",
            " [ 0.3046118  -0.28970299]\n",
            " [-0.7551301  -0.28970299]\n",
            " [-0.59595938 -0.0289703 ]\n",
            " [-1.30803892 -1.33263375]\n",
            " [-1.26615189 -0.81116837]\n",
            " [-0.7551301  -1.59336644]\n",
            " [-0.16871166 -0.0289703 ]\n",
            " [ 0.14125238 -0.0289703 ]\n",
            " [ 0.15800719 -0.0289703 ]\n",
            " [ 0.3046118  -0.0289703 ]\n",
            " [-0.05142797  1.53542584]\n",
            " [-0.72580918 -0.0289703 ]\n",
            " [ 0.14962979  1.01396046]\n",
            " [ 1.2219378  -0.0289703 ]\n",
            " [ 0.5685001   1.01396046]\n",
            " [ 0.3046118   1.27469315]\n",
            " [ 0.51404696 -0.0289703 ]\n",
            " [ 0.51404696  1.01396046]\n",
            " [ 0.72348212 -0.28970299]\n",
            " [ 0.8281997   1.01396046]\n",
            " [ 1.81254495  1.01396046]\n",
            " [ 0.96642691 -0.0289703 ]\n",
            " [ 1.72877089  1.01396046]\n",
            " [ 1.30990057  1.27469315]\n",
            " [ 1.90050772  1.01396046]\n",
            " [-0.23991961 -0.0289703 ]\n",
            " [ 0.40932938 -0.0289703 ]\n",
            " [ 0.47215993 -0.0289703 ]\n",
            " [ 0.4302729   2.31762392]]\n"
          ]
        }
      ]
    },
    {
      "cell_type": "markdown",
      "source": [
        "### **Predict CO2 Values**"
      ],
      "metadata": {
        "id": "HdqwEQ8x8gtk"
      }
    },
    {
      "cell_type": "markdown",
      "source": [
        "Tugas dalam bab Multiple Regression adalah memprediksi **emisi CO2** dari sebuah mobil ketika Anda hanya mengetahui **weight** dan **volume-nya**.\n",
        "\n",
        "Saat dataset sudah diskalakan, Anda harus menggunakan skala saat memprediksi nilai:\n",
        "\n",
        "**Contoh :**\n",
        "Prediksi **emisi CO2** dari mobil **volume** 1,3 liter dan yang mempunyai **weight** 2.300 kilogram:"
      ],
      "metadata": {
        "id": "xK197Yul8nAL"
      }
    },
    {
      "cell_type": "code",
      "source": [
        "import pandas as pd\n",
        "from sklearn import linear_model\n",
        "from sklearn.preprocessing import StandardScaler\n",
        "scale = StandardScaler()\n",
        "\n",
        "from google.colab import drive\n",
        "drive.mount('/content/drive')\n",
        "\n",
        "import pandas as pd\n",
        "df = pd.read_csv('drive/MyDrive/All Datasets/[Machine Learning Algorithm]/Dataset Machine Learning Regression/data (2).csv')\n",
        "\n",
        "X = df[['Weight', 'Volume']]\n",
        "y = df['CO2']\n",
        "\n",
        "scaledX = scale.fit_transform(X)\n",
        "\n",
        "regr = linear_model.LinearRegression()\n",
        "regr.fit(scaledX, y)\n",
        "\n",
        "scaled = scale.transform([[2300, 1.3]])\n",
        "\n",
        "predictedCO2 = regr.predict([scaled[0]])\n",
        "print(f'Prediksi CO2 dari mobil volume 1,3 liter dan yang mempunyai weight 2.300 kilogram : {predictedCO2}')"
      ],
      "metadata": {
        "colab": {
          "base_uri": "https://localhost:8080/"
        },
        "id": "v9NM40ow8TTF",
        "outputId": "97f048f1-0163-46c0-8db8-20d84dc32038"
      },
      "execution_count": null,
      "outputs": [
        {
          "output_type": "stream",
          "name": "stdout",
          "text": [
            "Drive already mounted at /content/drive; to attempt to forcibly remount, call drive.mount(\"/content/drive\", force_remount=True).\n",
            "Prediksi CO2 dari mobil volume 1,3 liter dan yang mempunyai weight 2.300 kilogram : [97.07204485]\n"
          ]
        },
        {
          "output_type": "stream",
          "name": "stderr",
          "text": [
            "/usr/local/lib/python3.10/dist-packages/sklearn/base.py:439: UserWarning: X does not have valid feature names, but StandardScaler was fitted with feature names\n",
            "  warnings.warn(\n"
          ]
        }
      ]
    },
    {
      "cell_type": "markdown",
      "source": [
        "### **Train/Test**"
      ],
      "metadata": {
        "id": "jCBmidGy93I7"
      }
    },
    {
      "cell_type": "markdown",
      "source": [
        "#### **Evaluate Your Model**"
      ],
      "metadata": {
        "id": "f8_PGR3k97ZM"
      }
    },
    {
      "cell_type": "markdown",
      "source": [
        "Dalam Machine Learning kami membuat model untuk memprediksi hasil dari peristiwa tertentu, seperti pada bab sebelumnya di mana kami memperkirakan emisi CO2 sebuah mobil ketika kami mengetahui weight dan volume mesinnya.\n",
        "\n",
        "Untuk mengukur apakah model sudah cukup baik, kita dapat menggunakan metode yang disebut Train/Test."
      ],
      "metadata": {
        "id": "pzTSBHAydG1F"
      }
    },
    {
      "cell_type": "markdown",
      "source": [
        "#### **What is Train/Test ?**"
      ],
      "metadata": {
        "id": "FPCjudiJ-K06"
      }
    },
    {
      "cell_type": "markdown",
      "source": [
        "- Train/Test adalah metode untuk mengukur the accuracy dari model Anda.\n",
        "\n",
        "- Disebut Train/Test karena Anda membagi dataset menjadi dua set : training set dan testing set.\n",
        "\n",
        "- **80% for training, and 20% for testing**.\n",
        "\n",
        "- Anda train the model menggunakan the training set.\n",
        "\n",
        "- Anda test the model menggunakan the testing set.\n",
        "\n",
        "- **Train the model berarti create the model.**\n",
        "\n",
        "- **Test the model berarti test the accuracy dari model.**\n",
        "\n"
      ],
      "metadata": {
        "id": "Egd-WncK-Ppj"
      }
    },
    {
      "cell_type": "markdown",
      "source": [
        "### **Start with a dataset**\n",
        "\n",
        "Mulailah dengan dataset yang ingin Anda test.\n",
        "\n",
        "Dataset kami menggambarkan 100 pelanggan di sebuah toko, dan kebiasaan berbelanja mereka."
      ],
      "metadata": {
        "id": "rg4BCj4P_Kbe"
      }
    },
    {
      "cell_type": "code",
      "source": [
        "import numpy\n",
        "import matplotlib.pyplot as plt\n",
        "numpy.random.seed(2)\n",
        "\n",
        "x = numpy.random.normal(3, 1, 100)\n",
        "y = numpy.random.normal(150, 40, 100) / x\n",
        "\n",
        "plt.scatter(x, y)\n",
        "plt.xlabel('The number of minutes before making a purchase')\n",
        "plt.ylabel('The amount of money spent on the purchase')\n",
        "plt.show()"
      ],
      "metadata": {
        "colab": {
          "base_uri": "https://localhost:8080/",
          "height": 449
        },
        "id": "SBkHFpAP9S9L",
        "outputId": "f79b4aac-3a47-4d4e-88ce-5d4355ec04ae"
      },
      "execution_count": null,
      "outputs": [
        {
          "output_type": "display_data",
          "data": {
            "text/plain": [
              "<Figure size 640x480 with 1 Axes>"
            ],
            "image/png": "[encoded data removed]"
          },
          "metadata": {}
        }
      ]
    },
    {
      "cell_type": "markdown",
      "source": [
        "#### **Split into Train/Test**\n",
        "\n",
        "The training set harus berupa random selection 80% dari data asli.\n",
        "\n",
        "The test set 20% sisanya.\n",
        "\n",
        "**$train_x = x[:80]$**\n",
        "\n",
        "**$train_y = y[:80]$**\n",
        "\n",
        "**$test_x = x[80:]$**\n",
        "\n",
        "**$test_y = y[80:]$**"
      ],
      "metadata": {
        "id": "DHvr_m33_ynw"
      }
    },
    {
      "cell_type": "code",
      "source": [
        "import numpy\n",
        "import matplotlib.pyplot as plt\n",
        "numpy.random.seed(2)\n",
        "\n",
        "x = numpy.random.normal(3, 1, 100)\n",
        "y = numpy.random.normal(150, 40, 100) / x\n",
        "\n",
        "train_x = x[:80]\n",
        "train_y = y[:80]\n",
        "\n",
        "test_x = x[80:]\n",
        "test_y = y[80:]\n",
        "\n",
        "# Display the same scatter plot with the training set:\n",
        "plt.scatter(train_x, train_y)\n",
        "plt.show()"
      ],
      "metadata": {
        "colab": {
          "base_uri": "https://localhost:8080/",
          "height": 430
        },
        "id": "G3yVPKnv_bxe",
        "outputId": "78fea1a1-a638-40c7-8eaf-1e25d1e36783"
      },
      "execution_count": null,
      "outputs": [
        {
          "output_type": "display_data",
          "data": {
            "text/plain": [
              "<Figure size 640x480 with 1 Axes>"
            ],
            "image/png": "[encoded data removed]"
          },
          "metadata": {}
        }
      ]
    },
    {
      "cell_type": "markdown",
      "source": [
        "Ini terlihat seperti original dataset, jadi sepertinya ini merupakan pilihan yang adil.\n",
        "\n",
        "Untuk memastikan test set tidak sepenuhnya berbeda, kita akan melihat set pengujian juga."
      ],
      "metadata": {
        "id": "xEqi7vwEBkew"
      }
    },
    {
      "cell_type": "code",
      "source": [
        "import numpy\n",
        "import matplotlib.pyplot as plt\n",
        "numpy.random.seed(2)\n",
        "\n",
        "x = numpy.random.normal(3, 1, 100)\n",
        "y = numpy.random.normal(150, 40, 100) / x\n",
        "\n",
        "train_x = x[:80]\n",
        "train_y = y[:80]\n",
        "\n",
        "test_x = x[80:]\n",
        "test_y = y[80:]\n",
        "\n",
        "# Display the same scatter plot with the test set:\n",
        "plt.scatter(test_x, test_y)\n",
        "plt.show()"
      ],
      "metadata": {
        "colab": {
          "base_uri": "https://localhost:8080/",
          "height": 430
        },
        "id": "2_LhafEaA0Vn",
        "outputId": "a76a7186-24b4-49fb-aac6-d00fd66868ea"
      },
      "execution_count": null,
      "outputs": [
        {
          "output_type": "display_data",
          "data": {
            "text/plain": [
              "<Figure size 640x480 with 1 Axes>"
            ],
            "image/png": "[encoded data removed]"
          },
          "metadata": {}
        }
      ]
    },
    {
      "cell_type": "markdown",
      "source": [
        "Test set juga terlihat seperti original dataset."
      ],
      "metadata": {
        "id": "tlA1HZ-RB41U"
      }
    },
    {
      "cell_type": "markdown",
      "source": [
        "#### **Fit the Dataset**\n",
        "\n",
        "Seperti apa dataset-nya ? Menurut pendapat saya, yang paling cocok adalah polinomial regression, jadi mari kita menggambar garis polinomial regression.\n",
        "\n",
        "Untuk menggambar garis melalui data points, kita menggunakan metode $plot()$ dari modul matplotlib:\n",
        "\n",
        "Contoh :\n",
        "Gambarkan garis polinomial regression melalui data points :"
      ],
      "metadata": {
        "id": "9v50qZiTB_RT"
      }
    },
    {
      "cell_type": "code",
      "source": [
        "import numpy\n",
        "import matplotlib.pyplot as plt\n",
        "numpy.random.seed(2)\n",
        "\n",
        "x = numpy.random.normal(3, 1, 100)\n",
        "y = numpy.random.normal(150, 40, 100) / x\n",
        "\n",
        "train_x = x[:80]\n",
        "train_y = y[:80]\n",
        "\n",
        "test_x = x[80:]\n",
        "test_y = y[80:]\n",
        "\n",
        "mymodel = numpy.poly1d(numpy.polyfit(train_x, train_y, 4))\n",
        "\n",
        "myline = numpy.linspace(0, 6, 100)\n",
        "\n",
        "plt.scatter(train_x, train_y)\n",
        "plt.plot(myline, mymodel(myline))\n",
        "plt.xlabel('The number of minutes before making a purchase')\n",
        "plt.ylabel('The amount of money spent on the purchase')\n",
        "plt.show()"
      ],
      "metadata": {
        "colab": {
          "base_uri": "https://localhost:8080/",
          "height": 449
        },
        "id": "6dosyOaKBdPB",
        "outputId": "1a108e53-2558-4318-e0ea-bc181ba6fd3e"
      },
      "execution_count": null,
      "outputs": [
        {
          "output_type": "display_data",
          "data": {
            "text/plain": [
              "<Figure size 640x480 with 1 Axes>"
            ],
            "image/png": "[encoded data removed]"
          },
          "metadata": {}
        }
      ]
    },
    {
      "cell_type": "markdown",
      "source": [
        "Hasilnya dapat mendukung saran saya mengenai dataset yang sesuai dengan polinomial regression, meskipun hal ini akan memberikan hasil yang aneh jika kita mencoba memprediksi nilai di luar dataset.\n",
        "\n",
        "Contoh: Garis menunjukkan bahwa pelanggan yang menghabiskan 6 menit di toko akan melakukan pembelian senilai 200. Itu mungkin merupakan tanda overfitting.\n",
        "\n",
        "Tapi bagaimana dengan skor R-squared ? Skor R-squared adalah indikator yang baik tentang seberapa cocok kumpulan data saya dengan model."
      ],
      "metadata": {
        "id": "1fPcaYjfCptr"
      }
    },
    {
      "cell_type": "markdown",
      "source": [
        "#### **R-Squared**"
      ],
      "metadata": {
        "id": "JZDaR-VrDOog"
      }
    },
    {
      "cell_type": "markdown",
      "source": [
        "Ini mengukur hubungan antara sumbu x dan sumbu y, dan nilainya berkisar dari 0 hingga 1, di mana 0 berarti tidak ada hubungan, dan 1 berarti berhubungan sepenuhnya.\n",
        "\n",
        "Modul sklearn memiliki metode yang disebut $r2-score()$ yang akan membantu kita menemukan hubungan ini.\n",
        "\n",
        "Dalam hal ini kami ingin mengukur hubungan antara the minutes a customer stays in the shop dan how much money they spend."
      ],
      "metadata": {
        "id": "0IL73tTZDQTr"
      }
    },
    {
      "cell_type": "markdown",
      "source": [
        "##### **Training set R-Squared**"
      ],
      "metadata": {
        "id": "HYIaJaEbd5yX"
      }
    },
    {
      "cell_type": "code",
      "source": [
        "import numpy\n",
        "from sklearn.metrics import r2_score\n",
        "numpy.random.seed(2)\n",
        "\n",
        "x = numpy.random.normal(3, 1, 100)\n",
        "y = numpy.random.normal(150, 40, 100) / x\n",
        "\n",
        "train_x = x[:80]\n",
        "train_y = y[:80]\n",
        "\n",
        "test_x = x[80:]\n",
        "test_y = y[80:]\n",
        "\n",
        "mymodel = numpy.poly1d(numpy.polyfit(train_x, train_y, 4))\n",
        "\n",
        "r2 = r2_score(train_y, mymodel(train_x))\n",
        "\n",
        "print(r2)"
      ],
      "metadata": {
        "colab": {
          "base_uri": "https://localhost:8080/"
        },
        "id": "IMTZzBL-CkWK",
        "outputId": "7a989514-8b56-453a-d8dd-03ecb023bbbb"
      },
      "execution_count": null,
      "outputs": [
        {
          "output_type": "stream",
          "name": "stdout",
          "text": [
            "0.79886455446298\n"
          ]
        }
      ]
    },
    {
      "cell_type": "markdown",
      "source": [
        "***Note*** : Hasil 0,799 menunjukkan OK relationship."
      ],
      "metadata": {
        "id": "FfrBOovyD7uc"
      }
    },
    {
      "cell_type": "markdown",
      "source": [
        "##### **Testing Set R-Squared**\n",
        "\n",
        "Sekarang kami telah membuat model yang OK, setidaknya dalam hal ttraining data/set.\n",
        "\n",
        "Sekarang kami ingin menguji model dengan test set juga, untuk melihat apakah memberikan hasil yang sama.\n",
        "\n",
        "\n",
        "Contoh :\n",
        "Mari kita cari skor R2 saat menggunakan test set :"
      ],
      "metadata": {
        "id": "PO7Kj71bEDob"
      }
    },
    {
      "cell_type": "code",
      "source": [
        "import numpy\n",
        "from sklearn.metrics import r2_score\n",
        "numpy.random.seed(2)\n",
        "\n",
        "x = numpy.random.normal(3, 1, 100)\n",
        "y = numpy.random.normal(150, 40, 100) / x\n",
        "\n",
        "train_x = x[:80]\n",
        "train_y = y[:80]\n",
        "\n",
        "test_x = x[80:]\n",
        "test_y = y[80:]\n",
        "\n",
        "mymodel = numpy.poly1d(numpy.polyfit(train_x, train_y, 4))\n",
        "\n",
        "r2 = r2_score(test_y, mymodel(test_x))\n",
        "\n",
        "print(r2)"
      ],
      "metadata": {
        "colab": {
          "base_uri": "https://localhost:8080/"
        },
        "id": "0YQz1ZAoD3bT",
        "outputId": "9cfcccce-b0f2-422f-d934-54d3f8bfce29"
      },
      "execution_count": null,
      "outputs": [
        {
          "output_type": "stream",
          "name": "stdout",
          "text": [
            "0.8086921460343566\n"
          ]
        }
      ]
    },
    {
      "cell_type": "markdown",
      "source": [
        "***Note*** : Hasil 0,809 menunjukkan bahwa model tersebut juga sesuai dengan training set, dan kami yakin bahwa kami dapat menggunakan model tersebut untuk predict future values."
      ],
      "metadata": {
        "id": "D2MPHsVyErSJ"
      }
    },
    {
      "cell_type": "markdown",
      "source": [
        "#### **Predict Future Values**"
      ],
      "metadata": {
        "id": "wcviHlSWEzKx"
      }
    },
    {
      "cell_type": "markdown",
      "source": [
        "Sekarang setelah kita memastikan bahwa model kita OK , kita dapat mulai memprediksi new values.\n",
        "\n",
        "**Contoh :**\n",
        "Berapa banyak uang yang akan dibelanjakan oleh pelanggan yang membeli jika dia berada di toko selama 5 menit?"
      ],
      "metadata": {
        "id": "USiopyl0E5CN"
      }
    },
    {
      "cell_type": "code",
      "source": [
        "import numpy\n",
        "import matplotlib.pyplot as plt\n",
        "numpy.random.seed(2)\n",
        "\n",
        "x = numpy.random.normal(3, 1, 100)\n",
        "y = numpy.random.normal(150, 40, 100) / x\n",
        "\n",
        "train_x = x[:80]\n",
        "train_y = y[:80]\n",
        "\n",
        "test_x = x[80:]\n",
        "test_y = y[80:]\n",
        "\n",
        "mymodel = numpy.poly1d(numpy.polyfit(train_x, train_y, 4))\n",
        "\n",
        "myline = numpy.linspace(0, 6, 100)\n",
        "\n",
        "mymodel(5)\n",
        "print(f'Uang yang akan dibelanjakan oleh pelanggan yang membeli jika dia berada di toko selama 5 menit : {mymodel(5)}')\n",
        "\n",
        "\n",
        "plt.scatter(train_x, train_y)\n",
        "plt.plot(myline, mymodel(myline))\n",
        "plt.xlabel('The number of minutes before making a purchase')\n",
        "plt.ylabel('The amount of money spent on the purchase')\n",
        "plt.show()"
      ],
      "metadata": {
        "colab": {
          "base_uri": "https://localhost:8080/",
          "height": 466
        },
        "id": "BQM4MirzEkVX",
        "outputId": "f5638a5d-8d5d-49f5-801a-b36978049c98"
      },
      "execution_count": null,
      "outputs": [
        {
          "output_type": "stream",
          "name": "stdout",
          "text": [
            "Uang yang akan dibelanjakan oleh pelanggan yang membeli jika dia berada di toko selama 5 menit : 22.8796259181172\n"
          ]
        },
        {
          "output_type": "display_data",
          "data": {
            "text/plain": [
              "<Figure size 640x480 with 1 Axes>"
            ],
            "image/png": "[encoded data removed]"
          },
          "metadata": {}
        }
      ]
    },
    {
      "cell_type": "markdown",
      "source": [
        " ***Note*** : Jumlah uang yang akan dibelanjakan oleh pelanggan yang membeli jika dia berada di toko selama 5 menit adalah 23 dollars."
      ],
      "metadata": {
        "id": "Tp-o0-pTFmqB"
      }
    }
  ]
}